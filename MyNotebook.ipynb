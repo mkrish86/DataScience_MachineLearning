{
    "cells": [
        {
            "cell_type": "markdown",
            "metadata": {},
            "source": "# My Jupyter Notebook on IBM Data Science Experience"
        },
        {
            "cell_type": "markdown",
            "metadata": {},
            "source": "**Murali Krishnan Sampath**  \nSenior Developer"
        },
        {
            "cell_type": "markdown",
            "metadata": {},
            "source": "_I am interested in data science because it will be fun to play with the data and its hot in the market right now_"
        },
        {
            "cell_type": "markdown",
            "metadata": {},
            "source": "### Find the sum of first 100 integers"
        },
        {
            "cell_type": "code",
            "execution_count": 14,
            "metadata": {},
            "outputs": [
                {
                    "name": "stdout",
                    "output_type": "stream",
                    "text": "5050\n"
                }
            ],
            "source": "def sum(n):\n    return n*(n+1)/2\nprint(int(sum(100)))\n"
        },
        {
            "cell_type": "markdown",
            "metadata": {},
            "source": "***\nThis is the first experience with IBM watson, I am excited about the new stuff\n***\n[This is the link to one of the beautiful speeches](https://www.youtube.com/results?search_query=motivational+speech+by+arnold+schwarzenegger)\n***\nThis table defines me, \n****\n|Name |Qualification |Profession |Hobbies |\n|--- |--- |--- |--- | \n|Murali krishnan S |B.Tech |Seinor developer | Reading,Playing cricket |\n\n***\nI feel these qualities are very important for all\n***\n\n * Right attitude.\n * Clear mind.\n * Discipline.\n\n`Data science` is powerful\n\n~~No Anger~~\n\n\n"
        },
        {
            "cell_type": "code",
            "execution_count": null,
            "metadata": {},
            "outputs": [],
            "source": ""
        }
    ],
    "metadata": {
        "kernelspec": {
            "display_name": "Python 3.6",
            "language": "python",
            "name": "python3"
        },
        "language_info": {
            "codemirror_mode": {
                "name": "ipython",
                "version": 3
            },
            "file_extension": ".py",
            "mimetype": "text/x-python",
            "name": "python",
            "nbconvert_exporter": "python",
            "pygments_lexer": "ipython3",
            "version": "3.6.8"
        }
    },
    "nbformat": 4,
    "nbformat_minor": 1
}