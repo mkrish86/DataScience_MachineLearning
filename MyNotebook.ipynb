{
    "cells": [
        {
            "metadata": {},
            "cell_type": "markdown",
            "source": "# My Jupyter Notebook on IBM Data Science Experience"
        },
        {
            "metadata": {},
            "cell_type": "markdown",
            "source": "**Murali Krishnan Sampath**  \nSenior Developer"
        },
        {
            "metadata": {},
            "cell_type": "markdown",
            "source": "_I am interested in data science because it will be fun to play with the data and its hot in the market right now_"
        },
        {
            "metadata": {},
            "cell_type": "markdown",
            "source": "### Find the sum of first 100 integers"
        },
        {
            "metadata": {},
            "cell_type": "code",
            "source": "def sum(n):\n    return n*(n+1)/2\nprint(int(sum(100)))\n",
            "execution_count": 14,
            "outputs": [
                {
                    "output_type": "stream",
                    "text": "5050\n",
                    "name": "stdout"
                }
            ]
        },
        {
            "metadata": {},
            "cell_type": "markdown",
            "source": "***\nThis is the first experience with IBM watson, I am excited about the new stuff\n***\n[This is the link to one of the beautiful speeches](https://www.youtube.com/results?search_query=motivational+speech+by+arnold+schwarzenegger)\n***\nThis table defines me, \n****\n|Name |Qualification |Profession |Hobbies |\n|--- |--- |--- |--- | \n|Murali krishnan S |B.Tech |Seinor developer | Reading,Playing cricket |\n\n***\nI feel these qualities are very important for all\n***\n\n * Right attitude.\n * Clear mind.\n * Discipline.\n\n`Data science` is powerful\n\n~~No Anger~~\n\n\n"
        },
        {
            "metadata": {},
            "cell_type": "code",
            "source": "",
            "execution_count": null,
            "outputs": []
        }
    ],
    "metadata": {
        "kernelspec": {
            "name": "python3",
            "display_name": "Python 3.6",
            "language": "python"
        },
        "language_info": {
            "name": "python",
            "version": "3.6.8",
            "mimetype": "text/x-python",
            "codemirror_mode": {
                "name": "ipython",
                "version": 3
            },
            "pygments_lexer": "ipython3",
            "nbconvert_exporter": "python",
            "file_extension": ".py"
        }
    },
    "nbformat": 4,
    "nbformat_minor": 1
}